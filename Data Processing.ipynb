{
 "cells": [
  {
   "cell_type": "code",
   "execution_count": 1,
   "metadata": {},
   "outputs": [],
   "source": [
    "%matplotlib inline \n",
    "import preprocessing_utils\n",
    "from datetime import datetime, timedelta"
   ]
  },
  {
   "cell_type": "code",
   "execution_count": 2,
   "metadata": {},
   "outputs": [],
   "source": [
    "raw_trunc_dir = \"./data/raw/trunc/\"\n",
    "process_dir = \"./data/processed/\"\n",
    "\n",
    "preprocessing_utils.processed(raw_trunc_dir, process_dir, overwrite=False)\n",
    "A, X, metadata, cat2index, timestamps, means, stds = preprocessing_utils.load(process_dir)"
   ]
  },
  {
   "cell_type": "code",
   "execution_count": 3,
   "metadata": {},
   "outputs": [],
   "source": [
    "data_chunks = preprocessing_utils.find_consecutive_chunks(timestamps, 9)"
   ]
  },
  {
   "cell_type": "code",
   "execution_count": 4,
   "metadata": {},
   "outputs": [
    {
     "name": "stdout",
     "output_type": "stream",
     "text": [
      "49618\n",
      "Mon_Mar_8_2021_22:10:08 Sun_Mar_14_2021_01:25:09 1480\n",
      "Sun_Mar_14_2021_01:36:20 Sun_Mar_14_2021_01:36:20 1\n",
      "Sun_Mar_14_2021_02:21:22 Sun_Mar_14_2021_02:55:09 8\n",
      "Sun_Mar_14_2021_03:20:22 Sun_Apr_4_2021_02:30:09 6039\n",
      "Sun_Apr_4_2021_03:35:09 Mon_Apr_5_2021_03:40:17 290\n",
      "Fri_Apr_30_2021_15:05:08 Sun_May_2_2021_00:25:09 401\n",
      "Sun_May_2_2021_01:20:12 Sun_May_2_2021_01:25:08 2\n",
      "Sun_May_2_2021_01:35:09 Sun_May_2_2021_07:26:21 71\n",
      "Sun_May_2_2021_07:50:10 Sun_May_23_2021_01:00:09 5967\n",
      "Sun_May_23_2021_01:10:08 Sun_Jul_4_2021_00:35:08 12090\n",
      "Sun_Jul_4_2021_04:40:10 Tue_Aug_17_2021_00:10:08 12619\n",
      "Tue_Aug_17_2021_00:20:10 Sun_Sep_12_2021_06:25:08 7562\n",
      "Sun_Sep_12_2021_06:35:09 Sun_Sep_12_2021_06:40:17 2\n",
      "Sun_Sep_12_2021_06:50:08 Wed_Sep_15_2021_22:25:07 1052\n",
      "Wed_Sep_15_2021_22:34:14 Wed_Sep_22_2021_23:55:10 2034\n"
     ]
    }
   ],
   "source": [
    "print(len(timestamps))\n",
    "for chunk in data_chunks:\n",
    "    start_time = timestamps[\"{}\".format(chunk[0])]\n",
    "    end_time = timestamps[\"{}\".format(chunk[len(chunk)-1])]\n",
    "    print(start_time, end_time, len(chunk))"
   ]
  },
  {
   "cell_type": "code",
   "execution_count": 5,
   "metadata": {},
   "outputs": [],
   "source": [
    "num_timesteps_input = 8 # 40 minutes\n",
    "num_timesteps_output = 4 # 20 minutes"
   ]
  },
  {
   "cell_type": "code",
   "execution_count": 6,
   "metadata": {},
   "outputs": [
    {
     "name": "stdout",
     "output_type": "stream",
     "text": [
      "1480\n",
      "6039\n",
      "290\n",
      "401\n",
      "71\n",
      "5967\n",
      "12090\n",
      "12619\n",
      "7562\n",
      "1052\n",
      "2034\n",
      "[0.029835702046164703, 0.12174175990323556, 0.005846184860397137, 0.00808386251385949, 0.0014313073278903337, 0.12029029331720592, 0.24372543090414273, 0.2543896784598327, 0.15244431004939019, 0.0212075395625441, 0.041003931055337166]\n"
     ]
    }
   ],
   "source": [
    "short_chunks = []\n",
    "for i in range(len(data_chunks)):\n",
    "    if len(data_chunks[i]) < num_timesteps_input + num_timesteps_output:\n",
    "        short_chunks.append(i)\n",
    "for idx in short_chunks[::-1]:\n",
    "    del data_chunks[idx]\n",
    "for chunk in data_chunks:\n",
    "    print(len(chunk))\n",
    "proportions = preprocessing_utils.chunk_len_proportion(data_chunks)\n",
    "print(proportions)"
   ]
  },
  {
   "cell_type": "code",
   "execution_count": 27,
   "metadata": {},
   "outputs": [],
   "source": [
    "# split = [0.6, 0.2]\n",
    "# split = [split[i] + split[i-1] if i > 0 else split[i] for i in range(len(split))]\n",
    "# lengths = []\n",
    "# total_count\n",
    "# for chunk in data_chunks:\n",
    "#     l = len(chunk)\n",
    "#     lengths.append(l)\n",
    "#     total_count += l\n",
    "# split_idxs = []\n",
    "# for p in split:\n",
    "#     samples = total_count * p // 1\n",
    "#     split_idxs.append(samples)        \n",
    "\n",
    "# tvtsplit = []\n",
    "# running_count = 0\n",
    "# split_i = 0\n",
    "# for i in range(len(data_chunks)):\n",
    "#     current_split = []\n",
    "#     if running_count + len(data_chunks[i]) > split_idxs[split_i]:\n",
    "#         current_split.append(data_chunks[i][:split_idxs[split_i] - running_count])\n",
    "#     else:\n",
    "#         current_split.append(data_chunks[i])"
   ]
  }
 ],
 "metadata": {
  "kernelspec": {
   "display_name": "Python 3",
   "language": "python",
   "name": "python3"
  },
  "language_info": {
   "codemirror_mode": {
    "name": "ipython",
    "version": 3
   },
   "file_extension": ".py",
   "mimetype": "text/x-python",
   "name": "python",
   "nbconvert_exporter": "python",
   "pygments_lexer": "ipython3",
   "version": "3.6.10"
  }
 },
 "nbformat": 4,
 "nbformat_minor": 4
}
