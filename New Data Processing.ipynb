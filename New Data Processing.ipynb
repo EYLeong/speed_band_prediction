{
 "cells": [
  {
   "cell_type": "markdown",
   "metadata": {},
   "source": [
    "1. Generate metatadata (adj matrix, road info, cat2index, timestamps) from raw JSON, and turn each JSON into npy with features\n",
    "2. Use timestamps to find consecutive chunks of data, split chunks into train val test\n",
    "3. Find mean and std of train set\n",
    "4. Split npy idxs into samples using sliding window, save as new files in 3 main directories (train, val, test)\n",
    "5. Dataloader will read sample files"
   ]
  },
  {
   "cell_type": "code",
   "execution_count": 1,
   "metadata": {},
   "outputs": [],
   "source": [
    "%matplotlib inline \n",
    "import preprocessing_utils\n",
    "import speedband_dataset\n",
    "import numpy as np\n",
    "from pathlib import Path\n",
    "from tqdm.notebook import tqdm"
   ]
  },
  {
   "cell_type": "code",
   "execution_count": 2,
   "metadata": {},
   "outputs": [],
   "source": [
    "raw_trunc_dir = Path(\"./data/raw/trunc\")\n",
    "process_dir = Path(\"./data/new_processed\")"
   ]
  },
  {
   "cell_type": "code",
   "execution_count": 3,
   "metadata": {},
   "outputs": [],
   "source": [
    "preprocessing_utils.processed_large(raw_trunc_dir, process_dir)"
   ]
  },
  {
   "cell_type": "code",
   "execution_count": 4,
   "metadata": {},
   "outputs": [],
   "source": [
    "A, metadata, cat2index, timestamps = preprocessing_utils.load_metadata(process_dir)"
   ]
  },
  {
   "cell_type": "code",
   "execution_count": 5,
   "metadata": {},
   "outputs": [],
   "source": [
    "data_chunks = preprocessing_utils.find_consecutive_chunks(timestamps, 9)"
   ]
  },
  {
   "cell_type": "code",
   "execution_count": 6,
   "metadata": {},
   "outputs": [
    {
     "name": "stdout",
     "output_type": "stream",
     "text": [
      "49618\n",
      "Mon_Mar_8_2021_22:10:08 Sun_Mar_14_2021_01:25:09 1480\n",
      "Sun_Mar_14_2021_01:36:20 Sun_Mar_14_2021_01:36:20 1\n",
      "Sun_Mar_14_2021_02:21:22 Sun_Mar_14_2021_02:55:09 8\n",
      "Sun_Mar_14_2021_03:20:22 Sun_Apr_4_2021_02:30:09 6039\n",
      "Sun_Apr_4_2021_03:35:09 Mon_Apr_5_2021_03:40:17 290\n",
      "Fri_Apr_30_2021_15:05:08 Sun_May_2_2021_00:25:09 401\n",
      "Sun_May_2_2021_01:20:12 Sun_May_2_2021_01:25:08 2\n",
      "Sun_May_2_2021_01:35:09 Sun_May_2_2021_07:26:21 71\n",
      "Sun_May_2_2021_07:50:10 Sun_May_23_2021_01:00:09 5967\n",
      "Sun_May_23_2021_01:10:08 Sun_Jul_4_2021_00:35:08 12090\n",
      "Sun_Jul_4_2021_04:40:10 Tue_Aug_17_2021_00:10:08 12619\n",
      "Tue_Aug_17_2021_00:20:10 Sun_Sep_12_2021_06:25:08 7562\n",
      "Sun_Sep_12_2021_06:35:09 Sun_Sep_12_2021_06:40:17 2\n",
      "Sun_Sep_12_2021_06:50:08 Wed_Sep_15_2021_22:25:07 1052\n",
      "Wed_Sep_15_2021_22:34:14 Wed_Sep_22_2021_23:55:10 2034\n"
     ]
    }
   ],
   "source": [
    "print(len(timestamps))\n",
    "for chunk in data_chunks:\n",
    "    start_time = timestamps[\"{}\".format(chunk[0])]\n",
    "    end_time = timestamps[\"{}\".format(chunk[len(chunk)-1])]\n",
    "    print(start_time, end_time, len(chunk))"
   ]
  },
  {
   "cell_type": "code",
   "execution_count": 7,
   "metadata": {},
   "outputs": [],
   "source": [
    "num_timesteps_input = 12 # 40 minutes\n",
    "num_timesteps_output = 6 # 20 minutes"
   ]
  },
  {
   "cell_type": "code",
   "execution_count": 8,
   "metadata": {
    "scrolled": true
   },
   "outputs": [
    {
     "name": "stdout",
     "output_type": "stream",
     "text": [
      "1480\n",
      "6039\n",
      "290\n",
      "401\n",
      "71\n",
      "5967\n",
      "12090\n",
      "12619\n",
      "7562\n",
      "1052\n",
      "2034\n",
      "[0.029835702046164703, 0.12174175990323556, 0.005846184860397137, 0.00808386251385949, 0.0014313073278903337, 0.12029029331720592, 0.24372543090414273, 0.2543896784598327, 0.15244431004939019, 0.0212075395625441, 0.041003931055337166]\n"
     ]
    }
   ],
   "source": [
    "short_chunks = []\n",
    "for i in range(len(data_chunks)):\n",
    "    if len(data_chunks[i]) < num_timesteps_input + num_timesteps_output:\n",
    "        short_chunks.append(i)\n",
    "for idx in short_chunks[::-1]:\n",
    "    del data_chunks[idx]\n",
    "for chunk in data_chunks:\n",
    "    print(len(chunk))\n",
    "proportions = preprocessing_utils.chunk_len_proportion(data_chunks)\n",
    "print(proportions)"
   ]
  },
  {
   "cell_type": "code",
   "execution_count": 9,
   "metadata": {},
   "outputs": [
    {
     "data": {
      "application/vnd.jupyter.widget-view+json": {
       "model_id": "046c3de945404a42abb578c30c453581",
       "version_major": 2,
       "version_minor": 0
      },
      "text/plain": [
       "HBox(children=(FloatProgress(value=0.0, max=26338.0), HTML(value='')))"
      ]
     },
     "metadata": {},
     "output_type": "display_data"
    },
    {
     "name": "stdout",
     "output_type": "stream",
     "text": [
      "\n"
     ]
    },
    {
     "data": {
      "text/plain": [
       "(array([ 4.03485028,  0.90566038,  0.05673374,  4.0460931 , 11.53766421]),\n",
       " array([1.02362099, 0.29230063, 0.03545753, 1.98377927, 6.93358581]))"
      ]
     },
     "execution_count": 9,
     "metadata": {},
     "output_type": "execute_result"
    }
   ],
   "source": [
    "train_idxs = []\n",
    "for i in range(7):\n",
    "    train_idxs.extend(data_chunks[i])\n",
    "preprocessing_utils.mean_std(process_dir/\"features\", train_idxs)"
   ]
  },
  {
   "cell_type": "code",
   "execution_count": 9,
   "metadata": {},
   "outputs": [],
   "source": [
    "means = [4.43166567, 2.55106077, 0.08281905, 4.0460931, 11.53766421]\n",
    "stds = [1.6744557, 1.55828848, 0.04885751, 1.98377927, 6.93358581]\n",
    "means_small = [4.03485028,  0.90566038,  0.05673374,  4.0460931 , 11.53766421]\n",
    "stds_small = [1.02362099, 0.29230063, 0.03545753, 1.98377927, 6.93358581]"
   ]
  },
  {
   "cell_type": "code",
   "execution_count": 9,
   "metadata": {},
   "outputs": [
    {
     "data": {
      "application/vnd.jupyter.widget-view+json": {
       "model_id": "99405e8e41de499ca98a72dc8d8bde58",
       "version_major": 2,
       "version_minor": 0
      },
      "text/plain": [
       "HBox(children=(FloatProgress(value=0.0, max=3.0), HTML(value='')))"
      ]
     },
     "metadata": {},
     "output_type": "display_data"
    },
    {
     "data": {
      "application/vnd.jupyter.widget-view+json": {
       "model_id": "d23a10beccc641caad2e5a4174b1639e",
       "version_major": 2,
       "version_minor": 0
      },
      "text/plain": [
       "HBox(children=(FloatProgress(value=0.0, max=7545.0), HTML(value='')))"
      ]
     },
     "metadata": {},
     "output_type": "display_data"
    },
    {
     "name": "stdout",
     "output_type": "stream",
     "text": [
      "\n"
     ]
    },
    {
     "data": {
      "application/vnd.jupyter.widget-view+json": {
       "model_id": "e9ee529bc09244f4b13a9359b3d5e02d",
       "version_major": 2,
       "version_minor": 0
      },
      "text/plain": [
       "HBox(children=(FloatProgress(value=0.0, max=1035.0), HTML(value='')))"
      ]
     },
     "metadata": {},
     "output_type": "display_data"
    },
    {
     "name": "stdout",
     "output_type": "stream",
     "text": [
      "\n"
     ]
    },
    {
     "data": {
      "application/vnd.jupyter.widget-view+json": {
       "model_id": "a0a47e8100904170859d29c81e6564b2",
       "version_major": 2,
       "version_minor": 0
      },
      "text/plain": [
       "HBox(children=(FloatProgress(value=0.0, max=2017.0), HTML(value='')))"
      ]
     },
     "metadata": {},
     "output_type": "display_data"
    },
    {
     "name": "stdout",
     "output_type": "stream",
     "text": [
      "\n",
      "\n"
     ]
    }
   ],
   "source": [
    "preprocessing_utils.generate_samples(data_chunks[:7], 12, 6, process_dir/\"dataset\"/\"train\", process_dir/\"features\", timestamps)\n",
    "preprocessing_utils.generate_samples(data_chunks[7:8], 12, 6, process_dir/\"dataset\"/\"val\", process_dir/\"features\", timestamps)\n",
    "preprocessing_utils.generate_samples(data_chunks[8:], 12, 6, process_dir/\"dataset\"/\"test\", process_dir/\"features\", timestamps)"
   ]
  },
  {
   "cell_type": "code",
   "execution_count": 22,
   "metadata": {},
   "outputs": [],
   "source": [
    "speedband_dataset.SpeedbandDataset(process_dir/\"dataset\"/\"train\", means_small, stds_small)"
   ]
  },
  {
   "cell_type": "code",
   "execution_count": 12,
   "metadata": {},
   "outputs": [],
   "source": [
    "test_output_timestamps = np.load(process_dir/\"dataset\"/\"test\"/\"output_timestamps.npy\", allow_pickle=True)"
   ]
  },
  {
   "cell_type": "code",
   "execution_count": 13,
   "metadata": {},
   "outputs": [
    {
     "data": {
      "text/plain": [
       "array([[datetime.datetime(2021, 8, 17, 1, 20, 8),\n",
       "        datetime.datetime(2021, 8, 17, 1, 25, 8),\n",
       "        datetime.datetime(2021, 8, 17, 1, 30, 9),\n",
       "        datetime.datetime(2021, 8, 17, 1, 35, 8),\n",
       "        datetime.datetime(2021, 8, 17, 1, 40, 9),\n",
       "        datetime.datetime(2021, 8, 17, 1, 45, 8)],\n",
       "       [datetime.datetime(2021, 8, 17, 1, 25, 8),\n",
       "        datetime.datetime(2021, 8, 17, 1, 30, 9),\n",
       "        datetime.datetime(2021, 8, 17, 1, 35, 8),\n",
       "        datetime.datetime(2021, 8, 17, 1, 40, 9),\n",
       "        datetime.datetime(2021, 8, 17, 1, 45, 8),\n",
       "        datetime.datetime(2021, 8, 17, 1, 50, 8)],\n",
       "       [datetime.datetime(2021, 8, 17, 1, 30, 9),\n",
       "        datetime.datetime(2021, 8, 17, 1, 35, 8),\n",
       "        datetime.datetime(2021, 8, 17, 1, 40, 9),\n",
       "        datetime.datetime(2021, 8, 17, 1, 45, 8),\n",
       "        datetime.datetime(2021, 8, 17, 1, 50, 8),\n",
       "        datetime.datetime(2021, 8, 17, 1, 55, 8)],\n",
       "       ...,\n",
       "       [datetime.datetime(2021, 9, 22, 23, 20, 7),\n",
       "        datetime.datetime(2021, 9, 22, 23, 25, 16),\n",
       "        datetime.datetime(2021, 9, 22, 23, 30, 8),\n",
       "        datetime.datetime(2021, 9, 22, 23, 35, 8),\n",
       "        datetime.datetime(2021, 9, 22, 23, 40, 8),\n",
       "        datetime.datetime(2021, 9, 22, 23, 45, 19)],\n",
       "       [datetime.datetime(2021, 9, 22, 23, 25, 16),\n",
       "        datetime.datetime(2021, 9, 22, 23, 30, 8),\n",
       "        datetime.datetime(2021, 9, 22, 23, 35, 8),\n",
       "        datetime.datetime(2021, 9, 22, 23, 40, 8),\n",
       "        datetime.datetime(2021, 9, 22, 23, 45, 19),\n",
       "        datetime.datetime(2021, 9, 22, 23, 50, 8)],\n",
       "       [datetime.datetime(2021, 9, 22, 23, 30, 8),\n",
       "        datetime.datetime(2021, 9, 22, 23, 35, 8),\n",
       "        datetime.datetime(2021, 9, 22, 23, 40, 8),\n",
       "        datetime.datetime(2021, 9, 22, 23, 45, 19),\n",
       "        datetime.datetime(2021, 9, 22, 23, 50, 8),\n",
       "        datetime.datetime(2021, 9, 22, 23, 55, 10)]], dtype=object)"
      ]
     },
     "execution_count": 13,
     "metadata": {},
     "output_type": "execute_result"
    }
   ],
   "source": [
    "test_output_timestamps"
   ]
  },
  {
   "cell_type": "code",
   "execution_count": null,
   "metadata": {},
   "outputs": [],
   "source": []
  }
 ],
 "metadata": {
  "kernelspec": {
   "display_name": "Python 3",
   "language": "python",
   "name": "python3"
  },
  "language_info": {
   "codemirror_mode": {
    "name": "ipython",
    "version": 3
   },
   "file_extension": ".py",
   "mimetype": "text/x-python",
   "name": "python",
   "nbconvert_exporter": "python",
   "pygments_lexer": "ipython3",
   "version": "3.6.10"
  }
 },
 "nbformat": 4,
 "nbformat_minor": 4
}
