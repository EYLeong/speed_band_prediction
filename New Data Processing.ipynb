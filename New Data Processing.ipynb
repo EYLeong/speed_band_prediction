{
 "cells": [
  {
   "cell_type": "markdown",
   "metadata": {},
   "source": [
    "1. Generate metatadata (adj matrix, road info, cat2index, timestamps) from raw JSON, and turn each JSON into npy with features\n",
    "2. Use timestamps to find consecutive chunks of data, split chunks into train val test\n",
    "3. Find mean and std of train set\n",
    "4. Split npy idxs into samples using sliding window, save as new files in 3 main directories (train, val, test)\n",
    "5. Dataloader will read sample files"
   ]
  },
  {
   "cell_type": "code",
   "execution_count": null,
   "metadata": {},
   "outputs": [],
   "source": [
    "%matplotlib inline \n",
    "import preprocessing_utils\n",
    "import speedband_dataset\n",
    "import numpy as np\n",
    "from pathlib import Path\n",
    "from tqdm.notebook import tqdm"
   ]
  },
  {
   "cell_type": "code",
   "execution_count": 2,
   "metadata": {},
   "outputs": [],
   "source": [
    "raw_trunc_dir = Path(\"/home/jovyan/scratch/downtown\")\n",
    "process_dir = Path(\"/home/jovyan/scratch/downtown_processed\")\n",
    "\n",
    "# Idea is to process each JSON into an npy with a 2D array of roads and features.\n",
    "# Continue generation of timestamps and other metadata\n",
    "# Filenames of npy will be indices from 0"
   ]
  },
  {
   "cell_type": "code",
   "execution_count": 3,
   "metadata": {},
   "outputs": [],
   "source": [
    "preprocessing_utils.processed_large(raw_trunc_dir, process_dir)"
   ]
  },
  {
   "cell_type": "code",
   "execution_count": 4,
   "metadata": {},
   "outputs": [],
   "source": [
    "A, metadata, cat2index, timestamps = preprocessing_utils.load_metadata(process_dir)"
   ]
  },
  {
   "cell_type": "code",
   "execution_count": 5,
   "metadata": {},
   "outputs": [],
   "source": [
    "data_chunks = preprocessing_utils.find_consecutive_chunks(timestamps, 9)"
   ]
  },
  {
   "cell_type": "code",
   "execution_count": 6,
   "metadata": {},
   "outputs": [
    {
     "name": "stdout",
     "output_type": "stream",
     "text": [
      "49618\n",
      "Mon_Mar_8_2021_22:10:08 Sun_Mar_14_2021_01:25:09 1480\n",
      "Sun_Mar_14_2021_01:36:20 Sun_Mar_14_2021_01:36:20 1\n",
      "Sun_Mar_14_2021_02:21:22 Sun_Mar_14_2021_02:55:09 8\n",
      "Sun_Mar_14_2021_03:20:22 Sun_Apr_4_2021_02:30:09 6039\n",
      "Sun_Apr_4_2021_03:35:09 Mon_Apr_5_2021_03:40:17 290\n",
      "Fri_Apr_30_2021_15:05:08 Sun_May_2_2021_00:25:09 401\n",
      "Sun_May_2_2021_01:20:12 Sun_May_2_2021_01:25:08 2\n",
      "Sun_May_2_2021_01:35:09 Sun_May_2_2021_07:26:21 71\n",
      "Sun_May_2_2021_07:50:10 Sun_May_23_2021_01:00:09 5967\n",
      "Sun_May_23_2021_01:10:08 Sun_Jul_4_2021_00:35:08 12090\n",
      "Sun_Jul_4_2021_04:40:10 Tue_Aug_17_2021_00:10:08 12619\n",
      "Tue_Aug_17_2021_00:20:10 Sun_Sep_12_2021_06:25:08 7562\n",
      "Sun_Sep_12_2021_06:35:09 Sun_Sep_12_2021_06:40:17 2\n",
      "Sun_Sep_12_2021_06:50:08 Wed_Sep_15_2021_22:25:07 1052\n",
      "Wed_Sep_15_2021_22:34:14 Wed_Sep_22_2021_23:55:10 2034\n"
     ]
    }
   ],
   "source": [
    "print(len(timestamps))\n",
    "for chunk in data_chunks:\n",
    "    start_time = timestamps[\"{}\".format(chunk[0])]\n",
    "    end_time = timestamps[\"{}\".format(chunk[len(chunk)-1])]\n",
    "    print(start_time, end_time, len(chunk))"
   ]
  },
  {
   "cell_type": "code",
   "execution_count": 7,
   "metadata": {},
   "outputs": [],
   "source": [
    "num_timesteps_input = 12 # 40 minutes\n",
    "num_timesteps_output = 6 # 20 minutes"
   ]
  },
  {
   "cell_type": "code",
   "execution_count": 8,
   "metadata": {
    "scrolled": true
   },
   "outputs": [
    {
     "name": "stdout",
     "output_type": "stream",
     "text": [
      "1480\n",
      "6039\n",
      "290\n",
      "401\n",
      "71\n",
      "5967\n",
      "12090\n",
      "12619\n",
      "7562\n",
      "1052\n",
      "2034\n",
      "[0.029835702046164703, 0.12174175990323556, 0.005846184860397137, 0.00808386251385949, 0.0014313073278903337, 0.12029029331720592, 0.24372543090414273, 0.2543896784598327, 0.15244431004939019, 0.0212075395625441, 0.041003931055337166]\n"
     ]
    }
   ],
   "source": [
    "short_chunks = []\n",
    "for i in range(len(data_chunks)):\n",
    "    if len(data_chunks[i]) < num_timesteps_input + num_timesteps_output:\n",
    "        short_chunks.append(i)\n",
    "for idx in short_chunks[::-1]:\n",
    "    del data_chunks[idx]\n",
    "for chunk in data_chunks:\n",
    "    print(len(chunk))\n",
    "proportions = preprocessing_utils.chunk_len_proportion(data_chunks)\n",
    "print(proportions)"
   ]
  },
  {
   "cell_type": "code",
   "execution_count": 65,
   "metadata": {},
   "outputs": [
    {
     "data": {
      "application/vnd.jupyter.widget-view+json": {
       "model_id": "15991a22dc084f149a9596a64813d6f4",
       "version_major": 2,
       "version_minor": 0
      },
      "text/plain": [
       "HBox(children=(FloatProgress(value=0.0, max=26338.0), HTML(value='')))"
      ]
     },
     "metadata": {},
     "output_type": "display_data"
    },
    {
     "name": "stdout",
     "output_type": "stream",
     "text": [
      "\n"
     ]
    },
    {
     "data": {
      "text/plain": [
       "(array([ 4.43166567,  2.55106077,  0.08281905,  4.0460931 , 11.53766421]),\n",
       " array([1.6744557 , 1.55828848, 0.04885751, 1.98377927, 6.93358581]))"
      ]
     },
     "execution_count": 65,
     "metadata": {},
     "output_type": "execute_result"
    }
   ],
   "source": [
    "train_idxs = []\n",
    "for i in range(7):\n",
    "    train_idxs.extend(data_chunks[i])\n",
    "preprocessing_utils.mean_std(process_dir/\"features\", train_idxs)"
   ]
  },
  {
   "cell_type": "code",
   "execution_count": 9,
   "metadata": {},
   "outputs": [],
   "source": [
    "means = [4.43166567, 2.55106077, 0.08281905, 4.0460931, 11.53766421]\n",
    "stds = [1.6744557, 1.55828848, 0.04885751, 1.98377927, 6.93358581]"
   ]
  },
  {
   "cell_type": "code",
   "execution_count": 14,
   "metadata": {},
   "outputs": [
    {
     "data": {
      "application/vnd.jupyter.widget-view+json": {
       "model_id": "eaeaf99180624f4381e282166ed941be",
       "version_major": 2,
       "version_minor": 0
      },
      "text/plain": [
       "HBox(children=(FloatProgress(value=0.0, max=7.0), HTML(value='')))"
      ]
     },
     "metadata": {},
     "output_type": "display_data"
    },
    {
     "data": {
      "application/vnd.jupyter.widget-view+json": {
       "model_id": "a836c8412f534d45a8806b4c014cf060",
       "version_major": 2,
       "version_minor": 0
      },
      "text/plain": [
       "HBox(children=(FloatProgress(value=0.0, max=1463.0), HTML(value='')))"
      ]
     },
     "metadata": {},
     "output_type": "display_data"
    },
    {
     "name": "stdout",
     "output_type": "stream",
     "text": [
      "\n"
     ]
    },
    {
     "data": {
      "application/vnd.jupyter.widget-view+json": {
       "model_id": "8e27ded63d0b4135a7558887b0f12382",
       "version_major": 2,
       "version_minor": 0
      },
      "text/plain": [
       "HBox(children=(FloatProgress(value=0.0, max=6022.0), HTML(value='')))"
      ]
     },
     "metadata": {},
     "output_type": "display_data"
    },
    {
     "name": "stdout",
     "output_type": "stream",
     "text": [
      "\n"
     ]
    },
    {
     "data": {
      "application/vnd.jupyter.widget-view+json": {
       "model_id": "77ceecfdcdc84c39a66f55ecf4c975dc",
       "version_major": 2,
       "version_minor": 0
      },
      "text/plain": [
       "HBox(children=(FloatProgress(value=0.0, max=273.0), HTML(value='')))"
      ]
     },
     "metadata": {},
     "output_type": "display_data"
    },
    {
     "name": "stdout",
     "output_type": "stream",
     "text": [
      "\n"
     ]
    },
    {
     "data": {
      "application/vnd.jupyter.widget-view+json": {
       "model_id": "6f2905d71ca240348f3c0283cf93f39f",
       "version_major": 2,
       "version_minor": 0
      },
      "text/plain": [
       "HBox(children=(FloatProgress(value=0.0, max=384.0), HTML(value='')))"
      ]
     },
     "metadata": {},
     "output_type": "display_data"
    },
    {
     "name": "stdout",
     "output_type": "stream",
     "text": [
      "\n"
     ]
    },
    {
     "data": {
      "application/vnd.jupyter.widget-view+json": {
       "model_id": "e144cc6f96e44a7db869b3833595910c",
       "version_major": 2,
       "version_minor": 0
      },
      "text/plain": [
       "HBox(children=(FloatProgress(value=0.0, max=54.0), HTML(value='')))"
      ]
     },
     "metadata": {},
     "output_type": "display_data"
    },
    {
     "name": "stdout",
     "output_type": "stream",
     "text": [
      "\n"
     ]
    },
    {
     "data": {
      "application/vnd.jupyter.widget-view+json": {
       "model_id": "ee9a705ab1e34349a1060ee63655d6f4",
       "version_major": 2,
       "version_minor": 0
      },
      "text/plain": [
       "HBox(children=(FloatProgress(value=0.0, max=5950.0), HTML(value='')))"
      ]
     },
     "metadata": {},
     "output_type": "display_data"
    },
    {
     "name": "stdout",
     "output_type": "stream",
     "text": [
      "\n"
     ]
    },
    {
     "data": {
      "application/vnd.jupyter.widget-view+json": {
       "model_id": "e894679155ff46238d412b2b177188b1",
       "version_major": 2,
       "version_minor": 0
      },
      "text/plain": [
       "HBox(children=(FloatProgress(value=0.0, max=12073.0), HTML(value='')))"
      ]
     },
     "metadata": {},
     "output_type": "display_data"
    },
    {
     "name": "stdout",
     "output_type": "stream",
     "text": [
      "\n",
      "\n"
     ]
    },
    {
     "data": {
      "application/vnd.jupyter.widget-view+json": {
       "model_id": "589f6765c259452fb113da7bcddad074",
       "version_major": 2,
       "version_minor": 0
      },
      "text/plain": [
       "HBox(children=(FloatProgress(value=0.0, max=1.0), HTML(value='')))"
      ]
     },
     "metadata": {},
     "output_type": "display_data"
    },
    {
     "data": {
      "application/vnd.jupyter.widget-view+json": {
       "model_id": "1f38c5624b384f6481b17e0e1ecc53ef",
       "version_major": 2,
       "version_minor": 0
      },
      "text/plain": [
       "HBox(children=(FloatProgress(value=0.0, max=12602.0), HTML(value='')))"
      ]
     },
     "metadata": {},
     "output_type": "display_data"
    },
    {
     "name": "stdout",
     "output_type": "stream",
     "text": [
      "\n",
      "\n"
     ]
    },
    {
     "data": {
      "application/vnd.jupyter.widget-view+json": {
       "model_id": "d387d5fe88d14a1ba0bda3c8f6995da9",
       "version_major": 2,
       "version_minor": 0
      },
      "text/plain": [
       "HBox(children=(FloatProgress(value=0.0, max=3.0), HTML(value='')))"
      ]
     },
     "metadata": {},
     "output_type": "display_data"
    },
    {
     "data": {
      "application/vnd.jupyter.widget-view+json": {
       "model_id": "b9766f695fd944f1b7ea2aad8b661eda",
       "version_major": 2,
       "version_minor": 0
      },
      "text/plain": [
       "HBox(children=(FloatProgress(value=0.0, max=7545.0), HTML(value='')))"
      ]
     },
     "metadata": {},
     "output_type": "display_data"
    },
    {
     "name": "stdout",
     "output_type": "stream",
     "text": [
      "\n"
     ]
    },
    {
     "data": {
      "application/vnd.jupyter.widget-view+json": {
       "model_id": "680f1cbd2e9b450f8d5d8c4136d00297",
       "version_major": 2,
       "version_minor": 0
      },
      "text/plain": [
       "HBox(children=(FloatProgress(value=0.0, max=1035.0), HTML(value='')))"
      ]
     },
     "metadata": {},
     "output_type": "display_data"
    },
    {
     "name": "stdout",
     "output_type": "stream",
     "text": [
      "\n"
     ]
    },
    {
     "data": {
      "application/vnd.jupyter.widget-view+json": {
       "model_id": "16a005814bf74f5b9ebe4c5aa86c25f0",
       "version_major": 2,
       "version_minor": 0
      },
      "text/plain": [
       "HBox(children=(FloatProgress(value=0.0, max=2017.0), HTML(value='')))"
      ]
     },
     "metadata": {},
     "output_type": "display_data"
    },
    {
     "name": "stdout",
     "output_type": "stream",
     "text": [
      "\n",
      "\n"
     ]
    }
   ],
   "source": [
    "preprocessing_utils.generate_samples(data_chunks[:7], 12, 6, process_dir/\"dataset\"/\"train\", process_dir/\"features\")\n",
    "preprocessing_utils.generate_samples(data_chunks[7:8], 12, 6, process_dir/\"dataset\"/\"val\", process_dir/\"features\")\n",
    "preprocessing_utils.generate_samples(data_chunks[8:], 12, 6, process_dir/\"dataset\"/\"test\", process_dir/\"features\")"
   ]
  },
  {
   "cell_type": "code",
   "execution_count": 25,
   "metadata": {},
   "outputs": [],
   "source": [
    "test = SpeedbandDataset(process_dir/\"dataset\"/\"train\")"
   ]
  }
 ],
 "metadata": {
  "kernelspec": {
   "display_name": "Python 3",
   "language": "python",
   "name": "python3"
  },
  "language_info": {
   "codemirror_mode": {
    "name": "ipython",
    "version": 3
   },
   "file_extension": ".py",
   "mimetype": "text/x-python",
   "name": "python",
   "nbconvert_exporter": "python",
   "pygments_lexer": "ipython3",
   "version": "3.6.10"
  }
 },
 "nbformat": 4,
 "nbformat_minor": 4
}
